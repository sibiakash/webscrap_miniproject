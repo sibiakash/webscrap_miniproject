{
 "cells": [
  {
   "cell_type": "code",
   "execution_count": 87,
   "id": "c3c7e8cf",
   "metadata": {},
   "outputs": [],
   "source": [
    "from bs4 import BeautifulSoup\n",
    "import requests"
   ]
  },
  {
   "cell_type": "code",
   "execution_count": 88,
   "id": "18b39404",
   "metadata": {},
   "outputs": [],
   "source": [
    "url = 'https://en.wikipedia.org/wiki/Space_industry_of_India'"
   ]
  },
  {
   "cell_type": "code",
   "execution_count": 89,
   "id": "509bccaf",
   "metadata": {},
   "outputs": [],
   "source": [
    "page = requests.get(url)\n",
    "soup = BeautifulSoup(page.text,'html')"
   ]
  },
  {
   "cell_type": "code",
   "execution_count": 90,
   "id": "308045a6",
   "metadata": {},
   "outputs": [],
   "source": [
    "#<table class=\"wikitable sortable jquery-tablesorter\" style=\"text-align:left\">"
   ]
  },
  {
   "cell_type": "code",
   "execution_count": 91,
   "id": "7d41d3cb",
   "metadata": {},
   "outputs": [],
   "source": [
    "table = soup.find_all('table', class_='wikitable sortable')[1]"
   ]
  },
  {
   "cell_type": "code",
   "execution_count": 92,
   "id": "1e06c47c",
   "metadata": {},
   "outputs": [],
   "source": [
    "title = table.find_all('th')"
   ]
  },
  {
   "cell_type": "code",
   "execution_count": 86,
   "id": "4cbd90d5",
   "metadata": {},
   "outputs": [
    {
     "data": {
      "text/plain": [
       "['Name', 'Established', 'Ownership', 'Services']"
      ]
     },
     "execution_count": 86,
     "metadata": {},
     "output_type": "execute_result"
    }
   ],
   "source": [
    "title_header= [x.text.strip() for x in title][:4]\n",
    "title_header"
   ]
  },
  {
   "cell_type": "code",
   "execution_count": 93,
   "id": "bba1c803",
   "metadata": {},
   "outputs": [],
   "source": [
    "import pandas as pd"
   ]
  },
  {
   "cell_type": "code",
   "execution_count": 96,
   "id": "ab029d13",
   "metadata": {},
   "outputs": [],
   "source": [
    "df = pd.DataFrame(columns = title_header)"
   ]
  },
  {
   "cell_type": "code",
   "execution_count": 123,
   "id": "8c55de72",
   "metadata": {},
   "outputs": [],
   "source": [
    "row_data = table.find_all('tr')[1:]\n"
   ]
  },
  {
   "cell_type": "code",
   "execution_count": 140,
   "id": "6bc43439",
   "metadata": {},
   "outputs": [
    {
     "data": {
      "text/html": [
       "<div>\n",
       "<style scoped>\n",
       "    .dataframe tbody tr th:only-of-type {\n",
       "        vertical-align: middle;\n",
       "    }\n",
       "\n",
       "    .dataframe tbody tr th {\n",
       "        vertical-align: top;\n",
       "    }\n",
       "\n",
       "    .dataframe thead th {\n",
       "        text-align: right;\n",
       "    }\n",
       "</style>\n",
       "<table border=\"1\" class=\"dataframe\">\n",
       "  <thead>\n",
       "    <tr style=\"text-align: right;\">\n",
       "      <th></th>\n",
       "      <th>Name</th>\n",
       "      <th>Established</th>\n",
       "      <th>Ownership</th>\n",
       "      <th>Services</th>\n",
       "    </tr>\n",
       "  </thead>\n",
       "  <tbody>\n",
       "    <tr>\n",
       "      <th>0</th>\n",
       "      <td>AgniKul Cosmos</td>\n",
       "      <td>2017</td>\n",
       "      <td>Private</td>\n",
       "      <td>Launch vehicles</td>\n",
       "    </tr>\n",
       "    <tr>\n",
       "      <th>1</th>\n",
       "      <td>Bellatrix Aerospace</td>\n",
       "      <td>2015</td>\n",
       "      <td>Private</td>\n",
       "      <td>Satellite propulsion systems\\nLaunch vehicles</td>\n",
       "    </tr>\n",
       "    <tr>\n",
       "      <th>2</th>\n",
       "      <td>Dhruva Space</td>\n",
       "      <td>2012</td>\n",
       "      <td>Private</td>\n",
       "      <td>Satellites</td>\n",
       "    </tr>\n",
       "    <tr>\n",
       "      <th>3</th>\n",
       "      <td>Pixxel</td>\n",
       "      <td>2019</td>\n",
       "      <td>Private</td>\n",
       "      <td>Earth imaging satellites</td>\n",
       "    </tr>\n",
       "    <tr>\n",
       "      <th>4</th>\n",
       "      <td>Satellize</td>\n",
       "      <td>2018</td>\n",
       "      <td>Private</td>\n",
       "      <td>Satellites</td>\n",
       "    </tr>\n",
       "    <tr>\n",
       "      <th>5</th>\n",
       "      <td>Skyroot Aerospace</td>\n",
       "      <td>2018</td>\n",
       "      <td>Private</td>\n",
       "      <td>Launch vehicles</td>\n",
       "    </tr>\n",
       "    <tr>\n",
       "      <th>6</th>\n",
       "      <td>Manastu Space</td>\n",
       "      <td>2017</td>\n",
       "      <td>Private</td>\n",
       "      <td>Satellites and spacecraft components\\nSatellit...</td>\n",
       "    </tr>\n",
       "  </tbody>\n",
       "</table>\n",
       "</div>"
      ],
      "text/plain": [
       "                  Name Established Ownership  \\\n",
       "0       AgniKul Cosmos        2017   Private   \n",
       "1  Bellatrix Aerospace        2015   Private   \n",
       "2         Dhruva Space        2012   Private   \n",
       "3               Pixxel        2019   Private   \n",
       "4            Satellize        2018   Private   \n",
       "5    Skyroot Aerospace        2018   Private   \n",
       "6        Manastu Space        2017   Private   \n",
       "\n",
       "                                            Services  \n",
       "0                                    Launch vehicles  \n",
       "1      Satellite propulsion systems\\nLaunch vehicles  \n",
       "2                                         Satellites  \n",
       "3                           Earth imaging satellites  \n",
       "4                                         Satellites  \n",
       "5                                    Launch vehicles  \n",
       "6  Satellites and spacecraft components\\nSatellit...  "
      ]
     },
     "execution_count": 140,
     "metadata": {},
     "output_type": "execute_result"
    }
   ],
   "source": [
    "for x in row_data:\n",
    "    y = x.find_all('td')\n",
    "   # print([a.text.strip() for a in y][:-1])\n",
    "    row_data_actual = [a.text.strip() for a in y][:-1]\n",
    "    length = len(df)\n",
    "    df.loc[length]=row_data_actual\n",
    "df.drop_duplicates(inplace=True)\n",
    "df"
   ]
  },
  {
   "cell_type": "code",
   "execution_count": 141,
   "id": "ed87c15a",
   "metadata": {},
   "outputs": [],
   "source": [
    "df.to_csv(r'/Users/sibiakash/Downloads/SpaceIndiaCompanies.csv',index=False)"
   ]
  }
 ],
 "metadata": {
  "kernelspec": {
   "display_name": "Python 3 (ipykernel)",
   "language": "python",
   "name": "python3"
  },
  "language_info": {
   "codemirror_mode": {
    "name": "ipython",
    "version": 3
   },
   "file_extension": ".py",
   "mimetype": "text/x-python",
   "name": "python",
   "nbconvert_exporter": "python",
   "pygments_lexer": "ipython3",
   "version": "3.10.9"
  }
 },
 "nbformat": 4,
 "nbformat_minor": 5
}
